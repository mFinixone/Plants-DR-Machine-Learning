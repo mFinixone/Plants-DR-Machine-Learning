{
 "cells": [
  {
   "cell_type": "markdown",
   "id": "9bf6bc0b",
   "metadata": {},
   "source": [
    "# Part I: Manipulating, Pre-Processing & Export Dataset to .h5"
   ]
  },
  {
   "cell_type": "markdown",
   "id": "17a5d580",
   "metadata": {},
   "source": [
    "## Imports"
   ]
  },
  {
   "cell_type": "code",
   "execution_count": 35,
   "id": "93a477e6",
   "metadata": {},
   "outputs": [],
   "source": [
    "from sklearn.preprocessing import LabelEncoder\n",
    "from sklearn.preprocessing import MinMaxScaler\n",
    "import numpy as np\n",
    "import mahotas\n",
    "import cv2\n",
    "import os\n",
    "import h5py"
   ]
  },
  {
   "cell_type": "markdown",
   "id": "1cf53c7c",
   "metadata": {},
   "source": [
    "## Constant"
   ]
  },
  {
   "cell_type": "code",
   "execution_count": 20,
   "id": "63e813ee",
   "metadata": {},
   "outputs": [],
   "source": [
    "images_per_class       = 800\n",
    "fixed_size             = tuple((200, 200))\n",
    "train_path             = \"dataset/train\"\n",
    "test_path  = \"dataset/test\"\n",
    "\n",
    "h5_train_data          = 'output/train_data.h5' # paths to write .h5\n",
    "h5_train_labels        = 'output/train_labels.h5'\n",
    "# you should create /output folder first or it will cause an error while trying to write .h5 files\n",
    "\n",
    "bins                   = 8"
   ]
  },
  {
   "cell_type": "markdown",
   "id": "a54b39fa",
   "metadata": {},
   "source": [
    "## Functions"
   ]
  },
  {
   "cell_type": "code",
   "execution_count": 10,
   "id": "9af839cb",
   "metadata": {},
   "outputs": [],
   "source": [
    "def rgb_bgr(image):\n",
    "    rgb_img = cv2.cvtColor(image, cv2.COLOR_BGR2RGB)\n",
    "    return rgb_img"
   ]
  },
  {
   "cell_type": "code",
   "execution_count": 11,
   "id": "ed5c595e",
   "metadata": {},
   "outputs": [],
   "source": [
    "def bgr_hsv(rgb_img):\n",
    "    hsv_img = cv2.cvtColor(rgb_img, cv2.COLOR_RGB2HSV)\n",
    "    return hsv_img"
   ]
  },
  {
   "cell_type": "code",
   "execution_count": 12,
   "id": "b87ff246",
   "metadata": {},
   "outputs": [],
   "source": [
    "def img_segmentation(rgb_img,hsv_img):\n",
    "    lower_green = np.array([25,0,20])\n",
    "    upper_green = np.array([100,255,255])\n",
    "    healthy_mask = cv2.inRange(hsv_img, lower_green, upper_green)\n",
    "    result = cv2.bitwise_and(rgb_img,rgb_img, mask=healthy_mask)\n",
    "    lower_brown = np.array([10,0,10])\n",
    "    upper_brown = np.array([30,255,255])\n",
    "    disease_mask = cv2.inRange(hsv_img, lower_brown, upper_brown)\n",
    "    disease_result = cv2.bitwise_and(rgb_img, rgb_img, mask=disease_mask)\n",
    "    final_mask = healthy_mask + disease_mask\n",
    "    final_result = cv2.bitwise_and(rgb_img, rgb_img, mask=final_mask)\n",
    "    return final_result"
   ]
  },
  {
   "cell_type": "code",
   "execution_count": 13,
   "id": "cf9934a6",
   "metadata": {},
   "outputs": [],
   "source": [
    "def fd_hu_moments(image):\n",
    "    image = cv2.cvtColor(image, cv2.COLOR_BGR2GRAY)\n",
    "    feature = cv2.HuMoments(cv2.moments(image)).flatten()\n",
    "    return feature"
   ]
  },
  {
   "cell_type": "code",
   "execution_count": 14,
   "id": "22bd5758",
   "metadata": {},
   "outputs": [],
   "source": [
    "def fd_haralick(image):\n",
    "    gray = cv2.cvtColor(image, cv2.COLOR_BGR2GRAY)\n",
    "    haralick = mahotas.features.haralick(gray).mean(axis=0)\n",
    "    return haralick"
   ]
  },
  {
   "cell_type": "code",
   "execution_count": 15,
   "id": "399d6dbb",
   "metadata": {},
   "outputs": [],
   "source": [
    "def fd_histogram(image, mask=None):\n",
    "    image = cv2.cvtColor(image, cv2.COLOR_BGR2HSV)\n",
    "    hist  = cv2.calcHist([image], [0, 1, 2], None, [bins, bins, bins], [0, 256, 0, 256, 0, 256])\n",
    "    cv2.normalize(hist, hist)\n",
    "    return hist.flatten()"
   ]
  },
  {
   "cell_type": "code",
   "execution_count": 14,
   "id": "f6dd0125",
   "metadata": {},
   "outputs": [
    {
     "name": "stdout",
     "output_type": "stream",
     "text": [
      "['Apple_Black_rot', 'Apple_Cedar_apple_rust', 'Apple_healthy', 'Apple_scab', 'Blueberry_healthy', 'Cherry_(including_sour)_Powdery_mildew', 'Cherry_(including_sour)_healthy', 'Corn_(maize)_Cercospora_leaf_spot Gray_leaf_spot', 'Corn_(maize)_Common_rust', 'Corn_(maize)_Northern_Leaf_Blight', 'Corn_(maize)_healthy', 'Grape_Black_rot', 'Grape_Esca_(Black_Measles)', 'Grape_Leaf_blight_(Isariopsis_Leaf_Spot)', 'Grape_healthy', 'Orange_Haunglongbing_(Citrus_greening)', 'Peach_Bacterial_spot', 'Peach_healthy', 'Pepper_bell_Bacterial_spot', 'Pepper_bell_healthy', 'Potato_Early_blight', 'Potato_Late_blight', 'Potato_healthy', 'Raspberry_healthy', 'Soybean_healthy', 'Squash_Powdery_mildew', 'Strawberry_Leaf_scorch', 'Strawberry_healthy', 'Tomato_Bacterial_spot', 'Tomato_Early_blight', 'Tomato_Late_blight', 'Tomato_Leaf_Mold', 'Tomato_Septoria_leaf_spot', 'Tomato_Spider_mites Two-spotted_spider_mite', 'Tomato_Target_Spot', 'Tomato_Tomato_Yellow_Leaf_Curl_Virus', 'Tomato_Tomato_mosaic_virus', 'Tomato_healthy']\n"
     ]
    }
   ],
   "source": [
    "# get the training labels\n",
    "train_labels = os.listdir(train_path)\n",
    "LABLES = os.listdir('./dataset/train/') # get name of each folder in this dir\n",
    "# sort the training labels\n",
    "train_labels.sort()\n",
    "print(train_labels)"
   ]
  },
  {
   "cell_type": "code",
   "execution_count": 18,
   "id": "227cba38",
   "metadata": {},
   "outputs": [],
   "source": [
    "def create_dataset(path_str):\n",
    "    counter = 0\n",
    "    #imgs_with_labels = []\n",
    "    \n",
    "    y = []\n",
    "    global_feature = []\n",
    "    x = []\n",
    "    for label in LABLES:\n",
    "        class_num = LABLES.index(label) # using index number of label, rather then use the name of a label\n",
    "        path = os.path.join(path_str,label)\n",
    "        for img in os.listdir(path): \n",
    "            counter += 1            \n",
    "            image = cv2.imread(os.path.join(path,img)) # ,cv2.IMREAD_GRAYSCALE\n",
    "            image = cv2.resize(image, fixed_size)\n",
    "            \n",
    "            RGB_BGR       = rgb_bgr(image)\n",
    "            BGR_HSV       = bgr_hsv(RGB_BGR)\n",
    "            IMG_SEGMENT   = img_segmentation(RGB_BGR,BGR_HSV)\n",
    "            \n",
    "            fv_hu_moments = fd_hu_moments(IMG_SEGMENT)\n",
    "            fv_haralick   = fd_haralick(IMG_SEGMENT)\n",
    "            fv_histogram  = fd_histogram(IMG_SEGMENT)\n",
    "            \n",
    "            global_feature = np.hstack([fv_histogram, fv_haralick, fv_hu_moments])\n",
    "            \n",
    "            y.append(label)\n",
    "            x.append(global_feature)\n",
    "            \n",
    "        print(f'Label: {path}, Counter: {counter}')\n",
    "        counter = 0\n",
    "    return x, y"
   ]
  },
  {
   "cell_type": "code",
   "execution_count": 19,
   "id": "5cf7f957",
   "metadata": {},
   "outputs": [
    {
     "name": "stdout",
     "output_type": "stream",
     "text": [
      "Label: dataset/train\\Apple_Black_rot, Counter: 3974\n",
      "Label: dataset/train\\Apple_Cedar_apple_rust, Counter: 3520\n",
      "Label: dataset/train\\Apple_healthy, Counter: 4016\n",
      "Label: dataset/train\\Apple_scab, Counter: 4032\n",
      "Label: dataset/train\\Blueberry_healthy, Counter: 3632\n",
      "Label: dataset/train\\Cherry_(including_sour)_healthy, Counter: 3652\n",
      "Label: dataset/train\\Cherry_(including_sour)_Powdery_mildew, Counter: 3366\n",
      "Label: dataset/train\\Corn_(maize)_Cercospora_leaf_spot Gray_leaf_spot, Counter: 3284\n",
      "Label: dataset/train\\Corn_(maize)_Common_rust, Counter: 3814\n",
      "Label: dataset/train\\Corn_(maize)_healthy, Counter: 3718\n",
      "Label: dataset/train\\Corn_(maize)_Northern_Leaf_Blight, Counter: 3816\n",
      "Label: dataset/train\\Grape_Black_rot, Counter: 3776\n",
      "Label: dataset/train\\Grape_Esca_(Black_Measles), Counter: 3840\n",
      "Label: dataset/train\\Grape_healthy, Counter: 3384\n",
      "Label: dataset/train\\Grape_Leaf_blight_(Isariopsis_Leaf_Spot), Counter: 3444\n",
      "Label: dataset/train\\Orange_Haunglongbing_(Citrus_greening), Counter: 4020\n",
      "Label: dataset/train\\Peach_Bacterial_spot, Counter: 3676\n",
      "Label: dataset/train\\Peach_healthy, Counter: 3456\n",
      "Label: dataset/train\\Pepper_bell_Bacterial_spot, Counter: 3826\n",
      "Label: dataset/train\\Pepper_bell_healthy, Counter: 3976\n",
      "Label: dataset/train\\Potato_Early_blight, Counter: 3878\n",
      "Label: dataset/train\\Potato_healthy, Counter: 3648\n",
      "Label: dataset/train\\Potato_Late_blight, Counter: 3878\n",
      "Label: dataset/train\\Raspberry_healthy, Counter: 3562\n",
      "Label: dataset/train\\Soybean_healthy, Counter: 4044\n",
      "Label: dataset/train\\Squash_Powdery_mildew, Counter: 3472\n",
      "Label: dataset/train\\Strawberry_healthy, Counter: 3648\n",
      "Label: dataset/train\\Strawberry_Leaf_scorch, Counter: 3548\n",
      "Label: dataset/train\\Tomato_Bacterial_spot, Counter: 3404\n",
      "Label: dataset/train\\Tomato_Early_blight, Counter: 3840\n",
      "Label: dataset/train\\Tomato_healthy, Counter: 3852\n",
      "Label: dataset/train\\Tomato_Late_blight, Counter: 3702\n",
      "Label: dataset/train\\Tomato_Leaf_Mold, Counter: 3764\n",
      "Label: dataset/train\\Tomato_Septoria_leaf_spot, Counter: 3490\n",
      "Label: dataset/train\\Tomato_Spider_mites Two-spotted_spider_mite, Counter: 3482\n",
      "Label: dataset/train\\Tomato_Target_Spot, Counter: 3654\n",
      "Label: dataset/train\\Tomato_Tomato_mosaic_virus, Counter: 3580\n",
      "Label: dataset/train\\Tomato_Tomato_Yellow_Leaf_Curl_Virus, Counter: 3922\n"
     ]
    }
   ],
   "source": [
    "global_features, labels = create_dataset(train_path)"
   ]
  },
  {
   "cell_type": "code",
   "execution_count": 20,
   "id": "5126bfa4",
   "metadata": {},
   "outputs": [
    {
     "name": "stdout",
     "output_type": "stream",
     "text": [
      "[STATUS] feature vector size (140590, 532)\n"
     ]
    }
   ],
   "source": [
    "print(\"[STATUS] feature vector size {}\".format(np.array(global_features).shape))"
   ]
  },
  {
   "cell_type": "code",
   "execution_count": 21,
   "id": "8b0821e3",
   "metadata": {},
   "outputs": [
    {
     "name": "stdout",
     "output_type": "stream",
     "text": [
      "[STATUS] training Labels (140590,)\n"
     ]
    }
   ],
   "source": [
    "print(\"[STATUS] training Labels {}\".format(np.array(labels).shape))"
   ]
  },
  {
   "cell_type": "code",
   "execution_count": 22,
   "id": "397f3443",
   "metadata": {},
   "outputs": [
    {
     "name": "stdout",
     "output_type": "stream",
     "text": [
      "[STATUS] training labels encoded...\n"
     ]
    }
   ],
   "source": [
    "targetNames = np.unique(labels)\n",
    "le          = LabelEncoder()\n",
    "target      = le.fit_transform(labels)\n",
    "print(\"[STATUS] training labels encoded...\")"
   ]
  },
  {
   "cell_type": "code",
   "execution_count": 23,
   "id": "3a7fafa2",
   "metadata": {},
   "outputs": [
    {
     "name": "stdout",
     "output_type": "stream",
     "text": [
      "[STATUS] feature vector normalized...\n"
     ]
    }
   ],
   "source": [
    "from sklearn.preprocessing import MinMaxScaler\n",
    "scaler            = MinMaxScaler(feature_range=(0, 1))\n",
    "rescaled_features = scaler.fit_transform(global_features)\n",
    "print(\"[STATUS] feature vector normalized...\")"
   ]
  },
  {
   "cell_type": "code",
   "execution_count": 24,
   "id": "0db4bd14",
   "metadata": {},
   "outputs": [
    {
     "name": "stdout",
     "output_type": "stream",
     "text": [
      "[STATUS] target labels: [ 0  0  0 ... 35 35 35]\n",
      "[STATUS] target labels shape: (140590,)\n"
     ]
    }
   ],
   "source": [
    "print(\"[STATUS] target labels: {}\".format(target))\n",
    "print(\"[STATUS] target labels shape: {}\".format(target.shape))"
   ]
  },
  {
   "cell_type": "markdown",
   "id": "ea42a3cb",
   "metadata": {},
   "source": [
    "## Writing to .h5"
   ]
  },
  {
   "cell_type": "code",
   "execution_count": 26,
   "id": "8fc5b47d",
   "metadata": {},
   "outputs": [
    {
     "data": {
      "text/plain": [
       "<HDF5 dataset \"dataset_1\": shape (140590, 532), type \"<f8\">"
      ]
     },
     "execution_count": 26,
     "metadata": {},
     "output_type": "execute_result"
    }
   ],
   "source": [
    "h5f_data = h5py.File(h5_train_data, 'w') # you should create /output folder first or it will cause an error\n",
    "h5f_data.create_dataset('dataset_1', data=np.array(rescaled_features))"
   ]
  },
  {
   "cell_type": "code",
   "execution_count": 27,
   "id": "231500e1",
   "metadata": {},
   "outputs": [
    {
     "data": {
      "text/plain": [
       "<HDF5 dataset \"dataset_1\": shape (140590,), type \"<i8\">"
      ]
     },
     "execution_count": 27,
     "metadata": {},
     "output_type": "execute_result"
    }
   ],
   "source": [
    "h5f_label = h5py.File(h5_train_labels, 'w') # you should create /output folder first or it will cause an error\n",
    "h5f_label.create_dataset('dataset_1', data=np.array(target))"
   ]
  },
  {
   "cell_type": "code",
   "execution_count": 28,
   "id": "3ae17a95",
   "metadata": {},
   "outputs": [],
   "source": [
    "h5f_data.close()\n",
    "h5f_label.close()"
   ]
  },
  {
   "cell_type": "markdown",
   "id": "40c2a6ff",
   "metadata": {},
   "source": [
    "# Part II: Train your Dataset"
   ]
  },
  {
   "cell_type": "markdown",
   "id": "8409cffe",
   "metadata": {},
   "source": [
    "## Imporst"
   ]
  },
  {
   "cell_type": "code",
   "execution_count": 1,
   "id": "84af8a8f",
   "metadata": {},
   "outputs": [],
   "source": [
    "import glob\n",
    "import warnings\n",
    "from matplotlib import pyplot\n",
    "from sklearn.model_selection import train_test_split, cross_val_score\n",
    "from sklearn.model_selection import KFold, StratifiedKFold\n",
    "from sklearn.metrics import confusion_matrix, accuracy_score, classification_report\n",
    "from sklearn.linear_model import LogisticRegression\n",
    "from sklearn.tree import DecisionTreeClassifier\n",
    "from sklearn.ensemble import RandomForestClassifier\n",
    "from sklearn.neighbors import KNeighborsClassifier\n",
    "from sklearn.discriminant_analysis import LinearDiscriminantAnalysis\n",
    "from sklearn.naive_bayes import GaussianNB\n",
    "from sklearn.svm import SVC"
   ]
  },
  {
   "cell_type": "code",
   "execution_count": 2,
   "id": "16197a8e",
   "metadata": {},
   "outputs": [],
   "source": [
    "num_trees = 100\n",
    "test_size = 0.20\n",
    "seed      = 9\n",
    "h5_train_data    = 'output/train_data.h5'\n",
    "h5_train_labels  = 'output/train_labels.h5'\n",
    "scoring    = \"accuracy\""
   ]
  },
  {
   "cell_type": "code",
   "execution_count": 6,
   "id": "f7f49985",
   "metadata": {},
   "outputs": [],
   "source": [
    "# get the training labels\n",
    "train_labels = os.listdir(train_path)\n",
    "\n",
    "# sort the training labels\n",
    "train_labels.sort()\n",
    "\n",
    "#if not os.path.exists(test_path):\n",
    "#    os.makedirs(test_path)"
   ]
  },
  {
   "cell_type": "markdown",
   "id": "f350c79d",
   "metadata": {},
   "source": [
    "## Comparing Between ML Algs"
   ]
  },
  {
   "cell_type": "code",
   "execution_count": 37,
   "id": "a76a610b",
   "metadata": {},
   "outputs": [],
   "source": [
    "models = []\n",
    "#models.append(('LR', LogisticRegression(random_state=seed))) caused me an error\n",
    "models.append(('LDA', LinearDiscriminantAnalysis()))\n",
    "models.append(('KNN', KNeighborsClassifier()))\n",
    "models.append(('CART', DecisionTreeClassifier(random_state=seed)))\n",
    "models.append(('RF', RandomForestClassifier(n_estimators=num_trees, random_state=seed)))\n",
    "models.append(('NB', GaussianNB()))\n",
    "#models.append(('SVM', SVC(random_state=seed))) idk why but it take too long, it didn't finish, and it was hard too stop the process"
   ]
  },
  {
   "cell_type": "code",
   "execution_count": 7,
   "id": "9671ae15",
   "metadata": {},
   "outputs": [],
   "source": [
    "results = []\n",
    "names   = []\n",
    "\n",
    "# import the feature vector and trained labels\n",
    "h5f_data  = h5py.File(h5_train_data, 'r')\n",
    "h5f_label = h5py.File(h5_train_labels, 'r')\n",
    "\n",
    "global_features_string = h5f_data['dataset_1']\n",
    "global_labels_string   = h5f_label['dataset_1']\n",
    "\n",
    "global_features = np.array(global_features_string)\n",
    "global_labels   = np.array(global_labels_string)\n",
    "\n",
    "h5f_data.close()\n",
    "h5f_label.close()"
   ]
  },
  {
   "cell_type": "code",
   "execution_count": 8,
   "id": "ebe24571",
   "metadata": {},
   "outputs": [
    {
     "name": "stdout",
     "output_type": "stream",
     "text": [
      "[STATUS] features shape: (140590, 532)\n",
      "[STATUS] labels shape: (140590,)\n",
      "[STATUS] training started...\n"
     ]
    }
   ],
   "source": [
    "print(\"[STATUS] features shape: {}\".format(global_features.shape))\n",
    "print(\"[STATUS] labels shape: {}\".format(global_labels.shape))\n",
    "\n",
    "print(\"[STATUS] training started...\")"
   ]
  },
  {
   "cell_type": "code",
   "execution_count": 9,
   "id": "0b887ea6",
   "metadata": {},
   "outputs": [
    {
     "name": "stdout",
     "output_type": "stream",
     "text": [
      "[STATUS] splitted train and test data...\n",
      "Train data  : (112472, 532)\n",
      "Test data   : (28118, 532)\n"
     ]
    }
   ],
   "source": [
    "(trainDataGlobal, testDataGlobal, trainLabelsGlobal, testLabelsGlobal) = train_test_split(np.array(global_features),\n",
    "                                                                                          np.array(global_labels),\n",
    "                                                                                          test_size=test_size,\n",
    "                                                                                          random_state=seed)\n",
    "\n",
    "print(\"[STATUS] splitted train and test data...\")\n",
    "print(\"Train data  : {}\".format(trainDataGlobal.shape))\n",
    "print(\"Test data   : {}\".format(testDataGlobal.shape))"
   ]
  },
  {
   "cell_type": "code",
   "execution_count": null,
   "id": "f147792d",
   "metadata": {},
   "outputs": [
    {
     "name": "stdout",
     "output_type": "stream",
     "text": [
      "LDA: 0.627063 (0.005082)\n",
      "KNN: 0.899077 (0.001827)\n",
      "CART: 0.959439 (0.001977)\n",
      "RF: 0.992309 (0.001114)\n",
      "NB: 0.485490 (0.004787)\n"
     ]
    }
   ],
   "source": [
    "for name, model in models:\n",
    "    kfold = KFold(n_splits=10)\n",
    "    cv_results = cross_val_score(model, trainDataGlobal, trainLabelsGlobal, cv=kfold, scoring=scoring)\n",
    "    results.append(cv_results)\n",
    "    names.append(name)\n",
    "    msg = \"%s: %f (%f)\" % (name, cv_results.mean(), cv_results.std())\n",
    "    print(msg)\n",
    "\n",
    "# boxplot algorithm comparison\n",
    "fig = pyplot.figure()\n",
    "fig.suptitle('Machine Learning algorithm comparison')\n",
    "ax = fig.add_subplot(111)\n",
    "pyplot.boxplot(results)\n",
    "ax.set_xticklabels(names)\n",
    "pyplot.show()"
   ]
  },
  {
   "cell_type": "markdown",
   "id": "1bef8b15",
   "metadata": {},
   "source": [
    "## Fiting The Model"
   ]
  },
  {
   "cell_type": "code",
   "execution_count": 10,
   "id": "0864d7b4",
   "metadata": {},
   "outputs": [],
   "source": [
    "clf  = RandomForestClassifier(n_estimators=num_trees)"
   ]
  },
  {
   "cell_type": "code",
   "execution_count": 11,
   "id": "b3784aea",
   "metadata": {},
   "outputs": [
    {
     "data": {
      "text/plain": [
       "RandomForestClassifier()"
      ]
     },
     "execution_count": 11,
     "metadata": {},
     "output_type": "execute_result"
    }
   ],
   "source": [
    "clf.fit(trainDataGlobal, trainLabelsGlobal)"
   ]
  },
  {
   "cell_type": "markdown",
   "id": "32af4f69",
   "metadata": {},
   "source": [
    "## Prediction"
   ]
  },
  {
   "cell_type": "code",
   "execution_count": 12,
   "id": "da5f15b6",
   "metadata": {},
   "outputs": [],
   "source": [
    "y_predict=clf.predict(testDataGlobal)"
   ]
  },
  {
   "cell_type": "code",
   "execution_count": 13,
   "id": "150db460",
   "metadata": {},
   "outputs": [
    {
     "data": {
      "text/plain": [
       "array([ 3, 24,  2, ..., 11,  8, 11], dtype=int64)"
      ]
     },
     "execution_count": 13,
     "metadata": {},
     "output_type": "execute_result"
    }
   ],
   "source": [
    "y_predict"
   ]
  },
  {
   "cell_type": "markdown",
   "id": "15f6a453",
   "metadata": {},
   "source": [
    "### Confusion Matrix"
   ]
  },
  {
   "cell_type": "code",
   "execution_count": 14,
   "id": "0bba882c",
   "metadata": {},
   "outputs": [],
   "source": [
    "cm = confusion_matrix(testLabelsGlobal,y_predict)"
   ]
  },
  {
   "cell_type": "code",
   "execution_count": 40,
   "id": "312ac8a7",
   "metadata": {},
   "outputs": [
    {
     "data": {
      "text/plain": [
       "<AxesSubplot:>"
      ]
     },
     "execution_count": 40,
     "metadata": {},
     "output_type": "execute_result"
    },
    {
     "data": {
      "image/png": "[encoded data removed]",
      "text/plain": [
       "<Figure size 2664x1800 with 2 Axes>"
      ]
     },
     "metadata": {
      "needs_background": "light"
     },
     "output_type": "display_data"
    }
   ],
   "source": [
    "import seaborn as sns\n",
    "import matplotlib.pyplot as plt\n",
    "plt.subplots(figsize=(37,25))\n",
    "sns.heatmap(cm ,annot=True, cmap=\"Blues\")"
   ]
  },
  {
   "cell_type": "code",
   "execution_count": 16,
   "id": "691ff46b",
   "metadata": {},
   "outputs": [
    {
     "name": "stdout",
     "output_type": "stream",
     "text": [
      "              precision    recall  f1-score   support\n",
      "\n",
      "           0       0.99      1.00      0.99       767\n",
      "           1       0.99      1.00      1.00       708\n",
      "           2       1.00      0.98      0.99       829\n",
      "           3       0.99      1.00      0.99       823\n",
      "           4       0.99      0.99      0.99       722\n",
      "           5       1.00      1.00      1.00       692\n",
      "           6       0.99      1.00      1.00       735\n",
      "           7       1.00      0.99      0.99       688\n",
      "           8       1.00      1.00      1.00       760\n",
      "           9       0.99      1.00      0.99       721\n",
      "          10       1.00      1.00      1.00       766\n",
      "          11       1.00      1.00      1.00       740\n",
      "          12       1.00      0.99      1.00       758\n",
      "          13       0.99      1.00      1.00       680\n",
      "          14       1.00      1.00      1.00       689\n",
      "          15       1.00      0.98      0.99       785\n",
      "          16       0.99      0.98      0.99       778\n",
      "          17       0.99      1.00      1.00       672\n",
      "          18       1.00      1.00      1.00       767\n",
      "          19       0.99      0.99      0.99       825\n",
      "          20       1.00      1.00      1.00       748\n",
      "          21       0.99      1.00      1.00       740\n",
      "          22       1.00      1.00      1.00       723\n",
      "          23       0.99      1.00      1.00       739\n",
      "          24       0.99      0.99      0.99       782\n",
      "          25       0.99      1.00      1.00       687\n",
      "          26       1.00      1.00      1.00       685\n",
      "          27       1.00      1.00      1.00       735\n",
      "          28       0.99      0.99      0.99       685\n",
      "          29       0.99      0.99      0.99       772\n",
      "          30       1.00      0.97      0.98       709\n",
      "          31       0.99      1.00      0.99       760\n",
      "          32       0.99      0.98      0.98       731\n",
      "          33       0.98      0.99      0.99       704\n",
      "          34       0.99      0.99      0.99       679\n",
      "          35       0.99      0.99      0.99       792\n",
      "          36       1.00      1.00      1.00       733\n",
      "          37       0.99      0.99      0.99       809\n",
      "\n",
      "    accuracy                           0.99     28118\n",
      "   macro avg       0.99      0.99      0.99     28118\n",
      "weighted avg       0.99      0.99      0.99     28118\n",
      "\n"
     ]
    }
   ],
   "source": [
    "print(classification_report(testLabelsGlobal,y_predict))"
   ]
  },
  {
   "cell_type": "code",
   "execution_count": 17,
   "id": "2506d8ab",
   "metadata": {},
   "outputs": [],
   "source": [
    "from sklearn.metrics import accuracy_score"
   ]
  },
  {
   "cell_type": "code",
   "execution_count": 18,
   "id": "a03b933e",
   "metadata": {},
   "outputs": [
    {
     "data": {
      "text/plain": [
       "0.994025179600256"
      ]
     },
     "execution_count": 18,
     "metadata": {},
     "output_type": "execute_result"
    }
   ],
   "source": [
    "accuracy_score(testLabelsGlobal, y_predict)"
   ]
  },
  {
   "cell_type": "markdown",
   "id": "e8b947b2",
   "metadata": {},
   "source": [
    "### Saving Model"
   ]
  },
  {
   "cell_type": "code",
   "execution_count": 37,
   "id": "cf44a474",
   "metadata": {},
   "outputs": [],
   "source": [
    "import joblib"
   ]
  },
  {
   "cell_type": "code",
   "execution_count": 42,
   "id": "a9439ebd",
   "metadata": {},
   "outputs": [
    {
     "data": {
      "text/plain": [
       "['./Plants_DR_RF.joblib']"
      ]
     },
     "execution_count": 42,
     "metadata": {},
     "output_type": "execute_result"
    }
   ],
   "source": [
    "joblib.dump(clf, \"./Plants_DR_RF.joblib\")"
   ]
  },
  {
   "cell_type": "markdown",
   "id": "39bebdf0",
   "metadata": {},
   "source": [
    "### Loading Model"
   ]
  },
  {
   "cell_type": "code",
   "execution_count": 38,
   "id": "4a349842",
   "metadata": {},
   "outputs": [],
   "source": [
    "loaded_clf = joblib.load(\"./Plants_DR_RF.joblib\")"
   ]
  },
  {
   "cell_type": "code",
   "execution_count": 81,
   "id": "d0bf0ba7",
   "metadata": {},
   "outputs": [],
   "source": [
    "IMG_PATH = './test.jpg'"
   ]
  },
  {
   "cell_type": "code",
   "execution_count": 82,
   "id": "71ac3f09",
   "metadata": {},
   "outputs": [],
   "source": [
    "import cv2"
   ]
  },
  {
   "cell_type": "code",
   "execution_count": null,
   "id": "db8f77da",
   "metadata": {},
   "outputs": [],
   "source": []
  },
  {
   "cell_type": "code",
   "execution_count": 83,
   "id": "fef4fa8f",
   "metadata": {},
   "outputs": [],
   "source": [
    "x = []\n",
    "image = cv2.imread(IMG_PATH) # ,cv2.IMREAD_GRAYSCALE\n",
    "image = cv2.resize(image, fixed_size)\n",
    "            \n",
    "RGB_BGR       = rgb_bgr(image)\n",
    "BGR_HSV       = bgr_hsv(RGB_BGR)\n",
    "IMG_SEGMENT   = img_segmentation(RGB_BGR,BGR_HSV)\n",
    "            \n",
    "fv_hu_moments = fd_hu_moments(IMG_SEGMENT)\n",
    "fv_haralick   = fd_haralick(IMG_SEGMENT)\n",
    "fv_histogram  = fd_histogram(IMG_SEGMENT)\n",
    "            \n",
    "global_feature = np.hstack([fv_histogram, fv_haralick, fv_hu_moments])\n",
    "            \n",
    "x.append(global_feature)"
   ]
  },
  {
   "cell_type": "code",
   "execution_count": 84,
   "id": "c5850e03",
   "metadata": {},
   "outputs": [
    {
     "data": {
      "text/plain": [
       "array([13], dtype=int64)"
      ]
     },
     "execution_count": 84,
     "metadata": {},
     "output_type": "execute_result"
    }
   ],
   "source": [
    "loaded_clf.predict(x)"
   ]
  },
  {
   "cell_type": "code",
   "execution_count": 85,
   "id": "e9a6ab75",
   "metadata": {},
   "outputs": [],
   "source": [
    "def segmnt_extrac(imag):\n",
    "    imgtest=[]\n",
    "    x=[]\n",
    "    imag= cv2.resize(imag, fixed_size)\n",
    "\n",
    "    RGB_BGR= rgb_bgr(imag)\n",
    "    BGR_HSV= bgr_hsv(RGB_BGR)\n",
    "    IMG_SEGMENT   = img_segmentation(RGB_BGR,BGR_HSV)\n",
    "  \n",
    "    fv_hu_moments = fd_hu_moments(IMG_SEGMENT )\n",
    "    fv_haralick   = fd_haralick(IMG_SEGMENT )\n",
    "    fv_histogram  = fd_histogram(IMG_SEGMENT )\n",
    "  \n",
    "    imgtest= np.hstack([fv_histogram,fv_haralick, fv_hu_moments])\n",
    "    \n",
    "    x.append(imgtest)\n",
    "\n",
    "    return x"
   ]
  },
  {
   "cell_type": "code",
   "execution_count": 86,
   "id": "81067e06",
   "metadata": {},
   "outputs": [],
   "source": [
    "from sklearn.preprocessing import MinMaxScaler\n",
    "scaler            = MinMaxScaler(feature_range=(0, 1))"
   ]
  },
  {
   "cell_type": "code",
   "execution_count": 87,
   "id": "51bc0290",
   "metadata": {},
   "outputs": [],
   "source": [
    "image=cv2.imread(IMG_PATH)\n",
    "imgtest=segmnt_extrac(image)\n",
    "imgscal =scaler.fit_transform(imgtest)\n",
    "y_pred=loaded_clf.predict(imgtest)"
   ]
  },
  {
   "cell_type": "code",
   "execution_count": 88,
   "id": "0f87609a",
   "metadata": {},
   "outputs": [
    {
     "data": {
      "text/plain": [
       "array([13], dtype=int64)"
      ]
     },
     "execution_count": 88,
     "metadata": {},
     "output_type": "execute_result"
    }
   ],
   "source": [
    "y_pred"
   ]
  },
  {
   "cell_type": "code",
   "execution_count": null,
   "id": "6cff0dab",
   "metadata": {},
   "outputs": [],
   "source": []
  },
  {
   "cell_type": "code",
   "execution_count": null,
   "id": "7d062e6d",
   "metadata": {},
   "outputs": [],
   "source": []
  }
 ],
 "metadata": {
  "kernelspec": {
   "display_name": "Python 3",
   "language": "python",
   "name": "python3"
  },
  "language_info": {
   "codemirror_mode": {
    "name": "ipython",
    "version": 3
   },
   "file_extension": ".py",
   "mimetype": "text/x-python",
   "name": "python",
   "nbconvert_exporter": "python",
   "pygments_lexer": "ipython3",
   "version": "3.8.8"
  }
 },
 "nbformat": 4,
 "nbformat_minor": 5
}
